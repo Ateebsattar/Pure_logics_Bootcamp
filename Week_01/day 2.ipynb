{
 "cells": [
  {
   "cell_type": "markdown",
   "id": "b7784241",
   "metadata": {},
   "source": [
    "# 💻 Bootcamp Week 1 - Day 1 Lab\n",
    "### Python Fundamentals & Data Structures\n",
    "Welcome to the Day 1 lab session! This lab will reinforce your understanding of core Python syntax and data structures. Complete each section step by step."
   ]
  },
  {
   "cell_type": "markdown",
   "id": "74936675",
   "metadata": {},
   "source": [
    "## 🔸 Step 1: Variables & Data Types\n",
    "Create variables of different types and observe their behavior."
   ]
  },
  {
   "cell_type": "code",
   "execution_count": null,
   "id": "944dc52a",
   "metadata": {},
   "outputs": [],
   "source": [
    "# TODO: Define a string, integer, float, and boolean\n",
    "# Hint: Use type() to verify the type of each variable\n",
    "name = ''  # e.g., 'Alice'\n",
    "age = 0    # e.g., 25\n",
    "height = 0.0  # e.g., 5.7\n",
    "is_student = False\n",
    "\n",
    "# Print each variable and its type"
   ]
  },
  {
   "cell_type": "code",
   "execution_count": null,
   "id": "5f4c5b98",
   "metadata": {},
   "outputs": [],
   "source": [
    "# question 1 Answer \n",
    "name = 'Alice'       \n",
    "age = 25             \n",
    "height = 5.7         \n",
    "is_student = True    \n",
    "print('name:', name, '| type:', type(name))\n",
    "print('age:', age, '| type:', type(age))\n",
    "print('height:', height, '| type:', type(height))\n",
    "print('is_student:', is_student, '| type:', type(is_student))"
   ]
  },
  {
   "cell_type": "markdown",
   "id": "e4bf65c8",
   "metadata": {},
   "source": [
    "## 🔸 Step 2: Conditional Statements\n",
    "Write a simple program to evaluate a student's grade."
   ]
  },
  {
   "cell_type": "code",
   "execution_count": null,
   "id": "465bb020",
   "metadata": {},
   "outputs": [],
   "source": [
    "# TODO: Ask user to enter a score (0-100) and print the grade\n",
    "# Hint: Use if-elif-else ladder\n",
    "score = int(input(\"Enter your score: \"))\n",
    "#print(score)\n",
    "# Add grading logic here"
   ]
  },
  {
   "cell_type": "code",
   "execution_count": null,
   "id": "2431360c",
   "metadata": {},
   "outputs": [],
   "source": [
    "# Question 2 Answer \n",
    "score = int(input(\"Enter your score: \"))\n",
    "score = int(input(\"Enter your score (0-100): \"))\n",
    "if score >= 90:\n",
    "    grade = 'A'\n",
    "elif score >= 80:\n",
    "    grade = 'B'\n",
    "elif score >= 70:\n",
    "    grade = 'C'\n",
    "elif score >= 60:\n",
    "    grade = 'D'\n",
    "elif score >= 0:\n",
    "    grade = 'F'\n",
    "else:\n",
    "    grade = 'Invalid score'\n",
    "\n",
    "print(\"Grade:\", grade)"
   ]
  },
  {
   "cell_type": "markdown",
   "id": "7075f45d",
   "metadata": {},
   "source": [
    "## 🔸 Step 3: Loops & Pattern Printing\n",
    "Use loops to generate simple patterns."
   ]
  },
  {
   "cell_type": "code",
   "execution_count": null,
   "id": "2c08279d",
   "metadata": {},
   "outputs": [
    {
     "name": "stdout",
     "output_type": "stream",
     "text": [
      "*\n",
      "**\n",
      "***\n",
      "****\n",
      "*****\n",
      "******\n",
      "*******\n",
      "********\n",
      "*********\n",
      "**********\n",
      "***********\n",
      "************\n",
      "*************\n"
     ]
    }
   ],
   "source": [
    "# TODO: Print a right-angled triangle using '*'\n",
    "n = 5  # height of triangle\n",
    "for i in range(1, n+9):\n",
    "    print('*' * i)"
   ]
  },
  {
   "cell_type": "code",
   "execution_count": null,
   "id": "37856d48",
   "metadata": {},
   "outputs": [],
   "source": []
  },
  {
   "cell_type": "markdown",
   "id": "45651611",
   "metadata": {},
   "source": [
    "## 🔸 Step 4: Lists & Comprehensions\n",
    "Create and manipulate lists using Pythonic techniques."
   ]
  },
  {
   "cell_type": "code",
   "execution_count": null,
   "id": "8c5b360d",
   "metadata": {},
   "outputs": [
    {
     "name": "stdout",
     "output_type": "stream",
     "text": [
      "[1, 2, 4, 6]\n"
     ]
    }
   ],
   "source": [
    "# TODO: Create a list of squares from 1 to 10 using list comprehension\n",
    "squares = []  # Fill this\n",
    "print(squares)"
   ]
  },
  {
   "cell_type": "code",
   "execution_count": null,
   "id": "bdff2d6b",
   "metadata": {},
   "outputs": [],
   "source": [
    "#Question 4 Answer \n",
    "squares = [x**2 for x in range(1, 11)]\n",
    "print(squares)"
   ]
  },
  {
   "cell_type": "markdown",
   "id": "2a041512",
   "metadata": {},
   "source": [
    "## 🔸 Step 5: Tuples, Sets, and Dictionaries\n",
    "Explore basic operations on key Python data structures."
   ]
  },
  {
   "cell_type": "code",
   "execution_count": 1,
   "id": "cc192a5b",
   "metadata": {},
   "outputs": [
    {
     "name": "stdout",
     "output_type": "stream",
     "text": [
      "(1, 2, 3, 4, 5)\n"
     ]
    }
   ],
   "source": [
    "# TODO: Create a tuple of 5 items, add values to a set, and use a dictionary\n",
    "sample_tuple = ( 1,2,3,4,5)  \n",
    "sample_set = set()\n",
    "sample_set.add('apple')\n",
    "sample_set.add('banana')\n",
    "sample_dict = {'name': 'Alice', 'age': 25}\n",
    "print(sample_tuple)"
   ]
  },
  {
   "cell_type": "code",
   "execution_count": null,
   "id": "75816ac5",
   "metadata": {},
   "outputs": [],
   "source": [
    "#Question 5 Answer \n",
    "sample_tuple = ( 1,2,3,4,5)  \n",
    "sample_set = set()\n",
    "sample_set.add('apple')\n",
    "sample_set.add('banana')\n",
    "sample_dict = {'name': 'Alice', 'age': 25}\n",
    "print(sample_tuple)\n"
   ]
  },
  {
   "cell_type": "markdown",
   "id": "ada94d6a",
   "metadata": {},
   "source": [
    "## 🔸 Step 6: Challenge - Word Frequency Counter\n",
    "Write a Python program that counts the frequency of each word in a string."
   ]
  },
  {
   "cell_type": "code",
   "execution_count": 1,
   "id": "29bbc4b6",
   "metadata": {},
   "outputs": [
    {
     "name": "stdout",
     "output_type": "stream",
     "text": [
      "{}\n"
     ]
    }
   ],
   "source": [
    "# TODO: Word frequency counter using dictionary\n",
    "text = \"Python is simple yet powerful. Python is easy to learn.\"\n",
    "# Split text and count frequency\n",
    "word_freq = {}\n",
    "# Fill the logic here to count words\n",
    "print(word_freq)\n",
    "#print(text)"
   ]
  },
  {
   "cell_type": "code",
   "execution_count": null,
   "id": "54b6d19a",
   "metadata": {},
   "outputs": [],
   "source": [
    "# Answer qs 6 \n",
    "count = 0 \n",
    "text = input(\"Enter a string: \")\n",
    "words = text.split()\n",
    "count = count +1 \n",
    "freq = {}\n",
    "for word in words:\n",
    "    freq[word] = freq.get(word, 0) + 1\n",
    "for word, count in freq.items():\n",
    "    print(word, \":\", count)"
   ]
  },
  {
   "cell_type": "markdown",
   "id": "cd87d9b4",
   "metadata": {},
   "source": [
    "## 🔸 Step 7 (Optional): List Mutability in Functions\n",
    "Pass a list to a function and modify it. Observe the changes."
   ]
  },
  {
   "cell_type": "code",
   "execution_count": 3,
   "id": "f038fced",
   "metadata": {},
   "outputs": [
    {
     "name": "stdout",
     "output_type": "stream",
     "text": [
      "['item1', 'item2', 'new item']\n"
     ]
    }
   ],
   "source": [
    "# TODO: Define a function that appends items to a list and observe mutability\n",
    "def modify_list(my_list):\n",
    "    my_list.append(\"new item\")\n",
    "\n",
    "lst = [\"item1\", \"item2\"]\n",
    "modify_list(lst)\n",
    "print(lst)\n",
    "\n"
   ]
  },
  {
   "cell_type": "code",
   "execution_count": 2,
   "id": "e3494a4c",
   "metadata": {},
   "outputs": [
    {
     "name": "stdout",
     "output_type": "stream",
     "text": [
      "['item1', 'item2', 'new item']\n"
     ]
    }
   ],
   "source": [
    "# question 6 answer \n",
    "def modify_list(my_list):\n",
    "    my_list.append(\"new item\")  \n",
    "lst = [\"item1\", \"item2\"]\n",
    "modify_list(lst)\n",
    "print(lst)"
   ]
  }
 ],
 "metadata": {
  "kernelspec": {
   "display_name": "Python 3",
   "language": "python",
   "name": "python3"
  },
  "language_info": {
   "codemirror_mode": {
    "name": "ipython",
    "version": 3
   },
   "file_extension": ".py",
   "mimetype": "text/x-python",
   "name": "python",
   "nbconvert_exporter": "python",
   "pygments_lexer": "ipython3",
   "version": "3.13.1"
  }
 },
 "nbformat": 4,
 "nbformat_minor": 5
}
