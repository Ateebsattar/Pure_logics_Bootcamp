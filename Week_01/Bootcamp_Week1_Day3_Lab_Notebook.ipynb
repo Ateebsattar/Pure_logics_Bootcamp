{
  "cells": [
    {
      "cell_type": "markdown",
      "id": "ae5523c3",
      "metadata": {
        "id": "ae5523c3"
      },
      "source": [
        "# Week 1 - Day 3 Lab: Data & Matrix Manipulation\n",
        "In this lab, you'll work with a realistic weather dataset. You'll use **Pandas** to explore and clean the data, and **NumPy** to perform matrix operations.\n",
        "\n",
        "**Dataset:** `hourly_weather_10_days.csv` (10 days of hourly weather data)"
      ]
    },
    {
      "cell_type": "markdown",
      "id": "10e89261",
      "metadata": {
        "id": "10e89261"
      },
      "source": [
        "## Step 1: Load the Data\n",
        "- Use Pandas to load the CSV file\n",
        "- Display the first few rows\n",
        "- Check the number of rows and columns"
      ]
    },
    {
      "cell_type": "code",
      "execution_count": 1,
      "id": "9b7002fd",
      "metadata": {
        "id": "9b7002fd"
      },
      "outputs": [
        {
          "data": {
            "text/html": [
              "<div>\n",
              "<style scoped>\n",
              "    .dataframe tbody tr th:only-of-type {\n",
              "        vertical-align: middle;\n",
              "    }\n",
              "\n",
              "    .dataframe tbody tr th {\n",
              "        vertical-align: top;\n",
              "    }\n",
              "\n",
              "    .dataframe thead th {\n",
              "        text-align: right;\n",
              "    }\n",
              "</style>\n",
              "<table border=\"1\" class=\"dataframe\">\n",
              "  <thead>\n",
              "    <tr style=\"text-align: right;\">\n",
              "      <th></th>\n",
              "      <th>timestamp</th>\n",
              "      <th>temperature_C</th>\n",
              "      <th>humidity_%</th>\n",
              "      <th>wind_speed_kmph</th>\n",
              "      <th>pressure_hPa</th>\n",
              "      <th>visibility_km</th>\n",
              "    </tr>\n",
              "  </thead>\n",
              "  <tbody>\n",
              "    <tr>\n",
              "      <th>0</th>\n",
              "      <td>2023-03-01 00:00:00</td>\n",
              "      <td>16.6</td>\n",
              "      <td>74.4</td>\n",
              "      <td>5.7</td>\n",
              "      <td>1012.5</td>\n",
              "      <td>9.5</td>\n",
              "    </tr>\n",
              "    <tr>\n",
              "      <th>1</th>\n",
              "      <td>2023-03-01 01:00:00</td>\n",
              "      <td>16.2</td>\n",
              "      <td>78.5</td>\n",
              "      <td>5.0</td>\n",
              "      <td>1012.1</td>\n",
              "      <td>10.3</td>\n",
              "    </tr>\n",
              "    <tr>\n",
              "      <th>2</th>\n",
              "      <td>2023-03-01 02:00:00</td>\n",
              "      <td>15.3</td>\n",
              "      <td>73.3</td>\n",
              "      <td>4.7</td>\n",
              "      <td>NaN</td>\n",
              "      <td>11.1</td>\n",
              "    </tr>\n",
              "    <tr>\n",
              "      <th>3</th>\n",
              "      <td>2023-03-01 03:00:00</td>\n",
              "      <td>15.8</td>\n",
              "      <td>72.4</td>\n",
              "      <td>1.3</td>\n",
              "      <td>1005.0</td>\n",
              "      <td>8.9</td>\n",
              "    </tr>\n",
              "    <tr>\n",
              "      <th>4</th>\n",
              "      <td>2023-03-01 04:00:00</td>\n",
              "      <td>20.9</td>\n",
              "      <td>70.6</td>\n",
              "      <td>6.8</td>\n",
              "      <td>1016.3</td>\n",
              "      <td>9.8</td>\n",
              "    </tr>\n",
              "  </tbody>\n",
              "</table>\n",
              "</div>"
            ],
            "text/plain": [
              "             timestamp  temperature_C  humidity_%  wind_speed_kmph  \\\n",
              "0  2023-03-01 00:00:00           16.6        74.4              5.7   \n",
              "1  2023-03-01 01:00:00           16.2        78.5              5.0   \n",
              "2  2023-03-01 02:00:00           15.3        73.3              4.7   \n",
              "3  2023-03-01 03:00:00           15.8        72.4              1.3   \n",
              "4  2023-03-01 04:00:00           20.9        70.6              6.8   \n",
              "\n",
              "   pressure_hPa  visibility_km  \n",
              "0        1012.5            9.5  \n",
              "1        1012.1           10.3  \n",
              "2           NaN           11.1  \n",
              "3        1005.0            8.9  \n",
              "4        1016.3            9.8  "
            ]
          },
          "execution_count": 1,
          "metadata": {},
          "output_type": "execute_result"
        }
      ],
      "source": [
        "# TODO: Load the data into a DataFrame\n",
        "import pandas as pd\n",
        "\n",
        "# Replace the file path if needed\n",
        "df = pd.read_csv('hourly_weather_10_days.csv')\n",
        "df.head()"
      ]
    },
    {
      "cell_type": "markdown",
      "id": "52e816b2",
      "metadata": {
        "id": "52e816b2"
      },
      "source": [
        "## Step 2: Basic Exploration\n",
        "- Check column names and data types\n",
        "- Display basic statistics using `.describe()`\n",
        "- Count missing values in each column"
      ]
    },
    {
      "cell_type": "code",
      "execution_count": 2,
      "id": "6b6fe363",
      "metadata": {
        "id": "6b6fe363"
      },
      "outputs": [
        {
          "name": "stdout",
          "output_type": "stream",
          "text": [
            "<class 'pandas.core.frame.DataFrame'>\n",
            "RangeIndex: 240 entries, 0 to 239\n",
            "Data columns (total 6 columns):\n",
            " #   Column           Non-Null Count  Dtype  \n",
            "---  ------           --------------  -----  \n",
            " 0   timestamp        240 non-null    object \n",
            " 1   temperature_C    228 non-null    float64\n",
            " 2   humidity_%       224 non-null    float64\n",
            " 3   wind_speed_kmph  226 non-null    float64\n",
            " 4   pressure_hPa     223 non-null    float64\n",
            " 5   visibility_km    228 non-null    float64\n",
            "dtypes: float64(5), object(1)\n",
            "memory usage: 11.4+ KB\n",
            "None\n",
            "       temperature_C  humidity_%  wind_speed_kmph  pressure_hPa  visibility_km\n",
            "count     228.000000  224.000000       226.000000    223.000000     228.000000\n",
            "mean       21.315789   66.795982        10.105310   1011.884753       9.989474\n",
            "std         3.421237    8.190300         3.940668      5.187080       1.022166\n",
            "min        11.500000   47.800000         1.300000    998.100000       6.800000\n",
            "25%        18.700000   61.075000         6.625000   1008.900000       9.275000\n",
            "50%        21.900000   66.300000         9.800000   1012.100000      10.000000\n",
            "75%        23.925000   72.725000        13.500000   1015.100000      10.700000\n",
            "max        28.700000   88.100000        17.800000   1027.000000      12.600000\n",
            "timestamp           0\n",
            "temperature_C      12\n",
            "humidity_%         16\n",
            "wind_speed_kmph    14\n",
            "pressure_hPa       17\n",
            "visibility_km      12\n",
            "dtype: int64\n"
          ]
        }
      ],
      "source": [
        "# TODO: Explore the DataFrame\n",
        "print(df.info())\n",
        "print(df.describe())\n",
        "print(df.isna().sum())"
      ]
    },
    {
      "cell_type": "markdown",
      "id": "b73651ed",
      "metadata": {
        "id": "b73651ed"
      },
      "source": [
        "## Step 3: Handle Missing Values\n",
        "- Drop or fill missing values\n",
        "- Justify your approach (e.g., fill with mean, forward fill, etc.)"
      ]
    },
    {
      "cell_type": "code",
      "execution_count": 3,
      "id": "2ed7fb33",
      "metadata": {
        "id": "2ed7fb33"
      },
      "outputs": [],
      "source": [
        "# TODO: Fill missing values\n",
        "# Example: df['column'] = df['column'].fillna(df['column'].mean())\n",
        "\n",
        "# Fill in your logic here"
      ]
    },
    {
      "cell_type": "code",
      "execution_count": 21,
      "id": "ae9351cb",
      "metadata": {},
      "outputs": [
        {
          "data": {
            "text/html": [
              "<div>\n",
              "<style scoped>\n",
              "    .dataframe tbody tr th:only-of-type {\n",
              "        vertical-align: middle;\n",
              "    }\n",
              "\n",
              "    .dataframe tbody tr th {\n",
              "        vertical-align: top;\n",
              "    }\n",
              "\n",
              "    .dataframe thead th {\n",
              "        text-align: right;\n",
              "    }\n",
              "</style>\n",
              "<table border=\"1\" class=\"dataframe\">\n",
              "  <thead>\n",
              "    <tr style=\"text-align: right;\">\n",
              "      <th></th>\n",
              "      <th>timestamp</th>\n",
              "      <th>temperature_C</th>\n",
              "      <th>humidity_%</th>\n",
              "      <th>wind_speed_kmph</th>\n",
              "      <th>pressure_hPa</th>\n",
              "      <th>visibility_km</th>\n",
              "    </tr>\n",
              "  </thead>\n",
              "  <tbody>\n",
              "    <tr>\n",
              "      <th>0</th>\n",
              "      <td>2023-03-01 00:00:00</td>\n",
              "      <td>16.6</td>\n",
              "      <td>74.4</td>\n",
              "      <td>5.7</td>\n",
              "      <td>1012.5</td>\n",
              "      <td>9.5</td>\n",
              "    </tr>\n",
              "    <tr>\n",
              "      <th>1</th>\n",
              "      <td>2023-03-01 01:00:00</td>\n",
              "      <td>16.2</td>\n",
              "      <td>78.5</td>\n",
              "      <td>5.0</td>\n",
              "      <td>1012.1</td>\n",
              "      <td>10.3</td>\n",
              "    </tr>\n",
              "    <tr>\n",
              "      <th>2</th>\n",
              "      <td>2023-03-01 02:00:00</td>\n",
              "      <td>15.3</td>\n",
              "      <td>73.3</td>\n",
              "      <td>4.7</td>\n",
              "      <td>NaN</td>\n",
              "      <td>11.1</td>\n",
              "    </tr>\n",
              "    <tr>\n",
              "      <th>3</th>\n",
              "      <td>2023-03-01 03:00:00</td>\n",
              "      <td>15.8</td>\n",
              "      <td>72.4</td>\n",
              "      <td>1.3</td>\n",
              "      <td>1005.0</td>\n",
              "      <td>8.9</td>\n",
              "    </tr>\n",
              "    <tr>\n",
              "      <th>4</th>\n",
              "      <td>2023-03-01 04:00:00</td>\n",
              "      <td>20.9</td>\n",
              "      <td>70.6</td>\n",
              "      <td>6.8</td>\n",
              "      <td>1016.3</td>\n",
              "      <td>9.8</td>\n",
              "    </tr>\n",
              "  </tbody>\n",
              "</table>\n",
              "</div>"
            ],
            "text/plain": [
              "             timestamp  temperature_C  humidity_%  wind_speed_kmph  \\\n",
              "0  2023-03-01 00:00:00           16.6        74.4              5.7   \n",
              "1  2023-03-01 01:00:00           16.2        78.5              5.0   \n",
              "2  2023-03-01 02:00:00           15.3        73.3              4.7   \n",
              "3  2023-03-01 03:00:00           15.8        72.4              1.3   \n",
              "4  2023-03-01 04:00:00           20.9        70.6              6.8   \n",
              "\n",
              "   pressure_hPa  visibility_km  \n",
              "0        1012.5            9.5  \n",
              "1        1012.1           10.3  \n",
              "2           NaN           11.1  \n",
              "3        1005.0            8.9  \n",
              "4        1016.3            9.8  "
            ]
          },
          "execution_count": 21,
          "metadata": {},
          "output_type": "execute_result"
        }
      ],
      "source": [
        "#Answer 3 \n",
        "df['humidity_%'] = df['humidity_%'].fillna(df['humidity_%'].mean())\n",
        "df.head()"
      ]
    },
    {
      "cell_type": "markdown",
      "id": "4e1d5c82",
      "metadata": {
        "id": "4e1d5c82"
      },
      "source": [
        "## Step 4: Data Analysis\n",
        "- Calculate daily average temperature\n",
        "- Find max, min, mean for each metric\n",
        "- Which hour of the day is the most humid on average?"
      ]
    },
    {
      "cell_type": "code",
      "execution_count": null,
      "id": "a9860be6",
      "metadata": {
        "id": "a9860be6"
      },
      "outputs": [],
      "source": [
        "# TODO: Perform analysis\n",
        "# Use groupby, aggregation, and filtering functions\n",
        "# Placeholder example:\n",
        "# df['timestamp'] = pd.to_datetime(df['timestamp'])\n",
        "# df['hour'] = df['timestamp'].dt.hour\n",
        "# avg_humidity_by_hour = df.groupby('hour')['humidity_%'].mean()"
      ]
    },
    {
      "cell_type": "code",
      "execution_count": 8,
      "id": "4814095b",
      "metadata": {},
      "outputs": [
        {
          "name": "stdout",
          "output_type": "stream",
          "text": [
            "hour\n",
            "0     78.170000\n",
            "1     78.420000\n",
            "2     75.414286\n",
            "3     71.940000\n",
            "4     69.310000\n",
            "5     68.611111\n",
            "6     65.770000\n",
            "7     65.044444\n",
            "8     63.490000\n",
            "9     59.650000\n",
            "10    58.710000\n",
            "11    58.910000\n",
            "12    59.422222\n",
            "13    58.330000\n",
            "14    61.366667\n",
            "15    60.888889\n",
            "16    59.600000\n",
            "17    64.030000\n",
            "18    66.971429\n",
            "19    69.190000\n",
            "20    67.488889\n",
            "21    72.700000\n",
            "22    73.750000\n",
            "23    79.100000\n",
            "Name: humidity_%, dtype: float64\n"
          ]
        }
      ],
      "source": [
        "import pandas as pd \n",
        "import numpy as np \n",
        "df['timestamp'] = pd.to_datetime(df['timestamp'])\n",
        "df['hour'] = df['timestamp'].dt.hour\n",
        "avg_humidity_by_hour = df.groupby('hour')['humidity_%'].mean()\n",
        "print(avg_humidity_by_hour)\n"
      ]
    },
    {
      "cell_type": "markdown",
      "id": "36119c0c",
      "metadata": {
        "id": "36119c0c"
      },
      "source": [
        "## Step 5: NumPy Matrix Exercises\n",
        "Convert relevant DataFrame columns into NumPy arrays and perform matrix operations."
      ]
    },
    {
      "cell_type": "code",
      "execution_count": null,
      "id": "04e09e3d",
      "metadata": {
        "id": "04e09e3d"
      },
      "outputs": [],
      "source": [
        "# TODO: Extract temperature and wind_speed as NumPy arrays\n",
        "import numpy as np\n",
        "\n",
        "temp = df['temperature_C'].to_numpy()\n",
        "wind = df['wind_speed_kmph'].to_numpy()"
      ]
    },
    {
      "cell_type": "code",
      "execution_count": 9,
      "id": "24dd25e9",
      "metadata": {},
      "outputs": [
        {
          "name": "stdout",
          "output_type": "stream",
          "text": [
            "[16.6 16.2 15.3 15.8 20.9 20.8 22.8 22.5 21.2 28.2  nan 25.6 25.4 23.4\n",
            " 27.6 23.8 22.  23.7 23.1 22.1 18.2 19.4 19.7 14.7 15.9 15.7 17.6 20.\n",
            " 22.  21.2 22.7 21.5 23.6 28.7 20.5 25.1 22.1 24.5 22.6 21.9 23.9  nan\n",
            " 24.2 22.  19.9 18.8 16.5 18.  13.6 15.7 18.5 15.9 25.7 20.9 20.8 20.7\n",
            " 22.3 25.7 24.8 21.2 25.5 21.9 22.4 24.7 24.4  nan 23.3 24.4 22.7 20.9\n",
            " 18.6 15.4 16.7 18.7 17.9 16.  21.5 22.1 27.1 23.7 21.9 24.2 26.8 24.4\n",
            "  nan 25.7 24.  19.5 23.  23.7 19.8 21.1 18.7 20.8 19.7 15.9 19.7 12.4\n",
            " 18.7 18.9 21.2 21.  19.6 20.5 24.7  nan 23.3 23.1 22.8 24.5 24.9 24.7\n",
            " 24.1 22.5 24.2 23.3 22.2 23.9 16.8 18.4 17.8 18.5 21.1 21.9 17.9 16.6\n",
            " 23.3 24.8 22.5 26.  25.4 24.3 26.2 20.8 21.3 22.7 24.7 23.5 25.6 23.2\n",
            " 23.9 15.5 19.8 17.3 15.8 17.6 17.9  nan 19.8 23.4 19.9 25.7 23.1 25.9\n",
            " 24.4 22.5 24.8 24.5 24.2 22.9 20.  20.7 20.5 21.9 23.2 15.4 15.3 17.6\n",
            " 13.5  nan 17.4 14.8 21.2 18.5 21.6 23.4 26.  22.3  nan 24.9 23.7  nan\n",
            " 24.6 23.6 25.5 24.4 22.5 21.5 19.  17.3 15.2 17.9 14.3 17.3 15.6 21.5\n",
            " 17.8 21.2 20.6 21.3 22.8 21.2 25.1 25.7 27.1 25.   nan 23.7 21.5 24.3\n",
            " 23.6 18.6 19.6 14.7 19.  16.2 17.7 16.3 16.8 17.3 20.  21.8 23.3 24.4\n",
            " 24.1 28.5 25.8 25.3  nan 23.7 24.  22.7 24.2 22.6 21.2 23.4 20.2  nan\n",
            " 20.9 11.5]\n",
            "[ 5.7  5.   4.7  1.3  6.8  nan 11.3 12.3 13.8 10.8 13.5 17.6 16.  16.5\n",
            " 12.8 13.8 14.1  nan  8.1  8.   7.3  6.2  4.3  4.6  4.4  7.7  5.3  3.2\n",
            "  6.2  9.7 11.3 11.  12.8 13.4 16.3 14.1 14.4 12.5 12.7 14.  12.8  nan\n",
            "  7.6  9.7  8.   6.9  5.9  4.3  6.7  5.5  6.7  6.6  8.4  8.4 10.9 12.8\n",
            " 10.3 16.7 15.8 17.8 15.1 13.7 13.  16.3 15.2 12.7  nan  8.2  8.4  8.5\n",
            "  4.7  6.9  7.3  3.2  4.   6.9  5.3  7.8 12.7 12.7  nan 11.3 13.  17.\n",
            " 15.9 12.8 14.8 14.7 12.  12.2 12.   4.7  6.5  6.4  7.3  8.2  nan  5.\n",
            "  4.8  6.3  5.5  6.8  7.8 11.9 12.9 15.6 13.3 15.8 15.4 14.1 15.6 12.3\n",
            "  nan 10.5  9.2  8.7 10.   5.6  7.3  6.   6.   6.6  6.9  9.2  6.6  8.4\n",
            "  8.5 10.4 10.8 13.3 13.5 14.7 15.  16.3 13.9 12.3 12.6  nan  8.6  nan\n",
            "  6.4  nan  4.3  3.7  nan  6.6  3.7  8.6  nan  9.   8.3 11.4 11.5 13.6\n",
            " 15.3 16.2 14.6 14.9 15.  13.6  nan  8.7  7.8  9.5  9.3  5.6  7.3  3.9\n",
            "  6.2  5.2  5.5  6.4  7.1  8.4  8.1 13.5 11.3 13.8 16.9 13.9 15.3 15.2\n",
            " 13.6 14.2 10.6 11.3  7.5 11.1  6.5 10.3  3.8  5.7  6.3  4.4  5.4  5.8\n",
            "  8.9  7.9 11.2  8.8  nan 15.5 17.4 13.5 14.8 17.4 12.2 13.4 15.4 11.\n",
            " 10.9  6.5  7.8  6.8  4.4  6.3  6.4  5.9  4.5  7.2  9.7 10.2  9.6 11.6\n",
            " 13.1 11.5 15.4 16.5 17.  15.7 14.9 14.9 12.3  9.1 10.5  9.9  8.2  4.5\n",
            "  5.   7.3]\n"
          ]
        }
      ],
      "source": [
        "#Answer 5 \n",
        "import numpy as np\n",
        "\n",
        "temp = df['temperature_C'].to_numpy()\n",
        "wind = df['wind_speed_kmph'].to_numpy()\n",
        "print(temp)\n",
        "print(wind)\n"
      ]
    },
    {
      "cell_type": "markdown",
      "id": "22aff3f0",
      "metadata": {
        "id": "22aff3f0"
      },
      "source": [
        "### a) Reshape into matrix form\n",
        "- Assume each row is a day\n",
        "- Reshape temperature into a (10, 24) matrix\n",
        "- Calculate daily min, max, and mean using axis-based operations"
      ]
    },
    {
      "cell_type": "code",
      "execution_count": null,
      "id": "3d90f886",
      "metadata": {
        "id": "3d90f886"
      },
      "outputs": [],
      "source": [
        "# TODO: Reshape and aggregate\n",
        "# Hint: temp_matrix = temp.reshape((10, 24))\n",
        "# Write functions to find min, max, mean across rows"
      ]
    },
    {
      "cell_type": "code",
      "execution_count": null,
      "id": "094246e5",
      "metadata": {},
      "outputs": [
        {
          "name": "stdout",
          "output_type": "stream",
          "text": [
            "[[16.6 16.2 15.3 15.8 20.9 20.8 22.8 22.5 21.2 28.2  nan 25.6 25.4 23.4\n",
            "  27.6 23.8 22.  23.7 23.1 22.1 18.2 19.4 19.7 14.7]\n",
            " [15.9 15.7 17.6 20.  22.  21.2 22.7 21.5 23.6 28.7 20.5 25.1 22.1 24.5\n",
            "  22.6 21.9 23.9  nan 24.2 22.  19.9 18.8 16.5 18. ]\n",
            " [13.6 15.7 18.5 15.9 25.7 20.9 20.8 20.7 22.3 25.7 24.8 21.2 25.5 21.9\n",
            "  22.4 24.7 24.4  nan 23.3 24.4 22.7 20.9 18.6 15.4]\n",
            " [16.7 18.7 17.9 16.  21.5 22.1 27.1 23.7 21.9 24.2 26.8 24.4  nan 25.7\n",
            "  24.  19.5 23.  23.7 19.8 21.1 18.7 20.8 19.7 15.9]\n",
            " [19.7 12.4 18.7 18.9 21.2 21.  19.6 20.5 24.7  nan 23.3 23.1 22.8 24.5\n",
            "  24.9 24.7 24.1 22.5 24.2 23.3 22.2 23.9 16.8 18.4]\n",
            " [17.8 18.5 21.1 21.9 17.9 16.6 23.3 24.8 22.5 26.  25.4 24.3 26.2 20.8\n",
            "  21.3 22.7 24.7 23.5 25.6 23.2 23.9 15.5 19.8 17.3]\n",
            " [15.8 17.6 17.9  nan 19.8 23.4 19.9 25.7 23.1 25.9 24.4 22.5 24.8 24.5\n",
            "  24.2 22.9 20.  20.7 20.5 21.9 23.2 15.4 15.3 17.6]\n",
            " [13.5  nan 17.4 14.8 21.2 18.5 21.6 23.4 26.  22.3  nan 24.9 23.7  nan\n",
            "  24.6 23.6 25.5 24.4 22.5 21.5 19.  17.3 15.2 17.9]\n",
            " [14.3 17.3 15.6 21.5 17.8 21.2 20.6 21.3 22.8 21.2 25.1 25.7 27.1 25.\n",
            "   nan 23.7 21.5 24.3 23.6 18.6 19.6 14.7 19.  16.2]\n",
            " [17.7 16.3 16.8 17.3 20.  21.8 23.3 24.4 24.1 28.5 25.8 25.3  nan 23.7\n",
            "  24.  22.7 24.2 22.6 21.2 23.4 20.2  nan 20.9 11.5]]\n"
          ]
        }
      ],
      "source": [
        "import pandas as pd \n",
        "import numpy as np \n",
        "temp_matrix = temp.reshape((10, 24))\n",
        "def row_min(df):\n",
        "    return df.drop(columns=['timestamp']).min(axis=1)\n",
        "def row_max(df):\n",
        "    return df.drop(columns=['timestamp']).max(axis=1)\n",
        "def row_mean(df):\n",
        "    return df.drop(columns=['timestamp']).mean(axis=1)\n",
        "print(temp_matrix)"
      ]
    },
    {
      "cell_type": "markdown",
      "id": "fc787766",
      "metadata": {
        "id": "fc787766"
      },
      "source": [
        "### b) Normalize the temperature matrix\n",
        "- Subtract the mean and divide by std deviation\n",
        "- Do it manually using NumPy functions"
      ]
    },
    {
      "cell_type": "code",
      "execution_count": null,
      "id": "80f02a5a",
      "metadata": {
        "id": "80f02a5a"
      },
      "outputs": [],
      "source": [
        "# TODO: Normalize temp_matrix\n",
        "# Placeholder for function: def normalize(matrix):\n",
        "# return ...\n",
        "\n",
        "# Apply it to temp_matrix"
      ]
    },
    {
      "cell_type": "code",
      "execution_count": 12,
      "id": "b888b790",
      "metadata": {},
      "outputs": [
        {
          "name": "stdout",
          "output_type": "stream",
          "text": [
            "     temperature_C  humidity_%  wind_speed_kmph  pressure_hPa  visibility_km  \\\n",
            "0         0.296512    0.660050         0.266667      0.498270       0.465517   \n",
            "1         0.273256    0.761787         0.224242      0.484429       0.603448   \n",
            "2         0.220930    0.632754         0.206061           NaN       0.741379   \n",
            "3         0.250000    0.610422         0.000000      0.238754       0.362069   \n",
            "4         0.546512    0.565757         0.333333      0.629758       0.517241   \n",
            "..             ...         ...              ...           ...            ...   \n",
            "235       0.691860    0.481390         0.521212      0.650519       0.241379   \n",
            "236       0.505814         NaN         0.418182      0.539792       0.603448   \n",
            "237            NaN    0.585608         0.193939      0.124567       0.672414   \n",
            "238       0.546512    0.774194         0.224242      0.678201       0.362069   \n",
            "239       0.000000         NaN         0.363636           NaN       0.982759   \n",
            "\n",
            "         hour  \n",
            "0    0.000000  \n",
            "1    0.043478  \n",
            "2    0.086957  \n",
            "3    0.130435  \n",
            "4    0.173913  \n",
            "..        ...  \n",
            "235  0.826087  \n",
            "236  0.869565  \n",
            "237  0.913043  \n",
            "238  0.956522  \n",
            "239  1.000000  \n",
            "\n",
            "[240 rows x 6 columns]      temperature_C  humidity_%  wind_speed_kmph  pressure_hPa  visibility_km  \\\n",
            "0             16.6        74.4              5.7        1012.5            9.5   \n",
            "1             16.2        78.5              5.0        1012.1           10.3   \n",
            "2             15.3        73.3              4.7           NaN           11.1   \n",
            "3             15.8        72.4              1.3        1005.0            8.9   \n",
            "4             20.9        70.6              6.8        1016.3            9.8   \n",
            "..             ...         ...              ...           ...            ...   \n",
            "235           23.4        67.2              9.9        1016.9            8.2   \n",
            "236           20.2         NaN              8.2        1013.7           10.3   \n",
            "237            NaN        71.4              4.5        1001.7           10.7   \n",
            "238           20.9        79.0              5.0        1017.7            8.9   \n",
            "239           11.5         NaN              7.3           NaN           12.5   \n",
            "\n",
            "     hour  \n",
            "0       0  \n",
            "1       1  \n",
            "2       2  \n",
            "3       3  \n",
            "4       4  \n",
            "..    ...  \n",
            "235    19  \n",
            "236    20  \n",
            "237    21  \n",
            "238    22  \n",
            "239    23  \n",
            "\n",
            "[240 rows x 6 columns]\n"
          ]
        }
      ],
      "source": [
        "def normalize(matrix):\n",
        "    return (matrix - matrix.min()) / (matrix.max() - matrix.min())\n",
        "temp_matrix = df.drop(columns=['timestamp'])\n",
        "normalized_temp_matrix = normalize(temp_matrix)\n",
        "print(normalized_temp_matrix,temp_matrix)"
      ]
    },
    {
      "cell_type": "markdown",
      "id": "64b192d5",
      "metadata": {
        "id": "64b192d5"
      },
      "source": [
        "### c) Apply custom mask/filter\n",
        "- Create a mask for wind speed > 15 kmph\n",
        "- Use it to extract high-wind readings"
      ]
    },
    {
      "cell_type": "code",
      "execution_count": null,
      "id": "09aa193d",
      "metadata": {
        "id": "09aa193d"
      },
      "outputs": [],
      "source": [
        "# TODO: Create boolean mask and filter wind speeds\n",
        "# mask = wind > 15\n",
        "# high_wind = wind[mask]"
      ]
    },
    {
      "cell_type": "code",
      "execution_count": 18,
      "id": "2e99b54c",
      "metadata": {},
      "outputs": [
        {
          "name": "stdout",
          "output_type": "stream",
          "text": [
            "11     17.6\n",
            "12     16.0\n",
            "13     16.5\n",
            "34     16.3\n",
            "57     16.7\n",
            "58     15.8\n",
            "59     17.8\n",
            "60     15.1\n",
            "63     16.3\n",
            "64     15.2\n",
            "83     17.0\n",
            "84     15.9\n",
            "105    15.6\n",
            "107    15.8\n",
            "108    15.4\n",
            "110    15.6\n",
            "133    16.3\n",
            "154    15.3\n",
            "155    16.2\n",
            "178    16.9\n",
            "180    15.3\n",
            "181    15.2\n",
            "201    15.5\n",
            "202    17.4\n",
            "205    17.4\n",
            "208    15.4\n",
            "226    15.4\n",
            "227    16.5\n",
            "228    17.0\n",
            "229    15.7\n",
            "Name: wind_speed_kmph, dtype: float64\n"
          ]
        }
      ],
      "source": [
        "#Answer (c)\n",
        "import pandas as pd\n",
        "df = pd.read_csv('hourly_weather_10_days.csv')\n",
        "wind = df['wind_speed_kmph']\n",
        "mask = wind > 15\n",
        "high_wind = wind[mask]\n",
        "print(high_wind)"
      ]
    },
    {
      "cell_type": "markdown",
      "id": "6a7ea5ad",
      "metadata": {
        "id": "6a7ea5ad"
      },
      "source": [
        "## Final Challenge: Write Your Own Function\n",
        "Write a function `daily_summary(matrix)` that takes a NumPy matrix of shape (10, 24) and returns a summary dictionary for each day."
      ]
    },
    {
      "cell_type": "code",
      "execution_count": null,
      "id": "96388bd6",
      "metadata": {
        "id": "96388bd6"
      },
      "outputs": [],
      "source": [
        "# TODO: Write and test your function\n",
        "def daily_summary(matrix):\n",
        "    # return list of dicts with min, max, mean\n",
        "    pass\n",
        "\n",
        "# Example usage:\n",
        "# summaries = daily_summary(temp_matrix)"
      ]
    },
    {
      "cell_type": "code",
      "execution_count": 22,
      "id": "fb1cb709",
      "metadata": {},
      "outputs": [
        {
          "name": "stdout",
          "output_type": "stream",
          "text": [
            "     temperature_C  humidity_%  wind_speed_kmph  pressure_hPa  visibility_km\n",
            "0             16.6        74.4              5.7        1012.5            9.5\n",
            "1             16.2        78.5              5.0        1012.1           10.3\n",
            "2             15.3        73.3              4.7           NaN           11.1\n",
            "3             15.8        72.4              1.3        1005.0            8.9\n",
            "4             20.9        70.6              6.8        1016.3            9.8\n",
            "..             ...         ...              ...           ...            ...\n",
            "235           23.4        67.2              9.9        1016.9            8.2\n",
            "236           20.2         NaN              8.2        1013.7           10.3\n",
            "237            NaN        71.4              4.5        1001.7           10.7\n",
            "238           20.9        79.0              5.0        1017.7            8.9\n",
            "239           11.5         NaN              7.3           NaN           12.5\n",
            "\n",
            "[240 rows x 5 columns]\n",
            "0      2023-03-01\n",
            "1      2023-03-01\n",
            "2      2023-03-01\n",
            "3      2023-03-01\n",
            "4      2023-03-01\n",
            "          ...    \n",
            "235    2023-03-10\n",
            "236    2023-03-10\n",
            "237    2023-03-10\n",
            "238    2023-03-10\n",
            "239    2023-03-10\n",
            "Name: date, Length: 240, dtype: object\n"
          ]
        }
      ],
      "source": [
        "#Answer final \n",
        "import pandas as pd\n",
        "df = pd.read_csv('hourly_weather_10_days.csv')\n",
        "df['date'] = pd.to_datetime(df['timestamp']).dt.date\n",
        "temp_matrix = df.drop(columns=['timestamp', 'date'])\n",
        "print(temp_matrix)\n",
        "print(df['date'])\n",
        "\n",
        "\n"
      ]
    },
    {
      "cell_type": "markdown",
      "id": "f9e64f53",
      "metadata": {
        "id": "f9e64f53"
      },
      "source": [
        "## ✅ Submit your notebook once complete.\n",
        "- Add comments where necessary"
      ]
    }
  ],
  "metadata": {
    "colab": {
      "provenance": []
    },
    "kernelspec": {
      "display_name": "Python 3",
      "language": "python",
      "name": "python3"
    },
    "language_info": {
      "codemirror_mode": {
        "name": "ipython",
        "version": 3
      },
      "file_extension": ".py",
      "mimetype": "text/x-python",
      "name": "python",
      "nbconvert_exporter": "python",
      "pygments_lexer": "ipython3",
      "version": "3.13.1"
    }
  },
  "nbformat": 4,
  "nbformat_minor": 5
}
